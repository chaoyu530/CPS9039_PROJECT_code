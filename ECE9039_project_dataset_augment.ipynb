{
 "cells": [
  {
   "cell_type": "code",
   "execution_count": 1,
   "id": "41d69d3b",
   "metadata": {},
   "outputs": [],
   "source": [
    "import os\n",
    "import shutil\n",
    "from tensorflow.keras.preprocessing.image import ImageDataGenerator, img_to_array, load_img, save_img"
   ]
  },
  {
   "cell_type": "code",
   "execution_count": 2,
   "id": "82fa55c2",
   "metadata": {},
   "outputs": [],
   "source": [
    "# Define the augmentation parameters\n",
    "datagen = ImageDataGenerator(\n",
    "    rotation_range=40,\n",
    "    horizontal_flip=True,\n",
    "    vertical_flip=True,\n",
    "    fill_mode='nearest'\n",
    ")\n",
    "\n",
    "# Define the directories\n",
    "base_dir = 'garbage_classification'\n",
    "augmented_dir = 'augmented_images'\n",
    "\n",
    "# Create the augmented directory if it doesn't exist\n",
    "if not os.path.exists(augmented_dir):\n",
    "    os.makedirs(augmented_dir)\n",
    "\n",
    "# Define the number of augmented images to generate per original image\n",
    "num_augmented_images = 2"
   ]
  },
  {
   "cell_type": "code",
   "execution_count": 3,
   "id": "ccb6eff2",
   "metadata": {},
   "outputs": [],
   "source": [
    "# Loop through the classes and images, applying the augmentation\n",
    "for class_name in os.listdir(base_dir):\n",
    "    class_dir = os.path.join(base_dir, class_name)\n",
    "    augmented_class_dir = os.path.join(augmented_dir, class_name)\n",
    "    j = 0\n",
    "\n",
    "    # Create the augmented class directory if it doesn't exist\n",
    "    if not os.path.exists(augmented_class_dir):\n",
    "        os.makedirs(augmented_class_dir)\n",
    "\n",
    "    for file_name in os.listdir(class_dir):\n",
    "        file_path = os.path.join(class_dir, file_name)\n",
    "\n",
    "        # Load the image\n",
    "        image = load_img(file_path)\n",
    "        image_array = img_to_array(image)\n",
    "        image_array = image_array.reshape((1,) + image_array.shape)\n",
    "\n",
    "        # Generate and save the augmented images\n",
    "        i = 0\n",
    "        for batch in datagen.flow(image_array, batch_size=1):\n",
    "            # Save the augmented image with the specified format\n",
    "            save_img(os.path.join(augmented_class_dir, f\"{class_name}{j}.jpeg\"), batch[0])\n",
    "            \n",
    "            j += 1\n",
    "            i += 1\n",
    "            if i >= num_augmented_images:\n",
    "                break  # Stop generating more images for this file"
   ]
  },
  {
   "cell_type": "code",
   "execution_count": null,
   "id": "cf107e1f",
   "metadata": {},
   "outputs": [],
   "source": []
  }
 ],
 "metadata": {
  "kernelspec": {
   "display_name": "Python 3 (ipykernel)",
   "language": "python",
   "name": "python3"
  },
  "language_info": {
   "codemirror_mode": {
    "name": "ipython",
    "version": 3
   },
   "file_extension": ".py",
   "mimetype": "text/x-python",
   "name": "python",
   "nbconvert_exporter": "python",
   "pygments_lexer": "ipython3",
   "version": "3.9.16"
  }
 },
 "nbformat": 4,
 "nbformat_minor": 5
}
